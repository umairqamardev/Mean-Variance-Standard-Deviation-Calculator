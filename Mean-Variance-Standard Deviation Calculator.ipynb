{
  "metadata": {
    "kernelspec": {
      "name": "python",
      "display_name": "Python (Pyodide)",
      "language": "python"
    },
    "language_info": {
      "codemirror_mode": {
        "name": "python",
        "version": 3
      },
      "file_extension": ".py",
      "mimetype": "text/x-python",
      "name": "python",
      "nbconvert_exporter": "python",
      "pygments_lexer": "ipython3",
      "version": "3.8"
    }
  },
  "nbformat_minor": 5,
  "nbformat": 4,
  "cells": [
    {
      "id": "855fb53c-01ae-4fe8-82b0-bfa38c61cf51",
      "cell_type": "code",
      "source": "import numpy as np\n\ndef calculate(input_list):\n    if len(input_list) != 9:\n        raise ValueError(\"List must contain nine numbers.\")\n    \n    # Convert the list to a 3x3 matrix\n    matrix = np.array(input_list).reshape(3, 3)\n\n    # Perform calculations and return the dictionary\n    calculations = {\n        'mean': [matrix.mean(axis=0).tolist(), matrix.mean(axis=1).tolist(), matrix.mean().item()],\n        'variance': [matrix.var(axis=0).tolist(), matrix.var(axis=1).tolist(), matrix.var().item()],\n        'standard deviation': [matrix.std(axis=0).tolist(), matrix.std(axis=1).tolist(), matrix.std().item()],\n        'max': [matrix.max(axis=0).tolist(), matrix.max(axis=1).tolist(), matrix.max().item()],\n        'min': [matrix.min(axis=0).tolist(), matrix.min(axis=1).tolist(), matrix.min().item()],\n        'sum': [matrix.sum(axis=0).tolist(), matrix.sum(axis=1).tolist(), matrix.sum().item()]\n    }\n\n    return calculations\n",
      "metadata": {
        "trusted": true
      },
      "outputs": [],
      "execution_count": 2
    },
    {
      "id": "38592af6-0e3d-4a9c-a68f-52eec25f06b3",
      "cell_type": "code",
      "source": "input_data = [0, 1, 2, 3, 4, 5, 6, 7, 8]\noutput = calculate(input_data)\noutput\n",
      "metadata": {
        "trusted": true
      },
      "outputs": [
        {
          "execution_count": 3,
          "output_type": "execute_result",
          "data": {
            "text/plain": "{'mean': [[3.0, 4.0, 5.0], [1.0, 4.0, 7.0], 4.0],\n 'variance': [[6.0, 6.0, 6.0],\n  [0.6666666666666666, 0.6666666666666666, 0.6666666666666666],\n  6.666666666666667],\n 'standard deviation': [[2.449489742783178,\n   2.449489742783178,\n   2.449489742783178],\n  [0.816496580927726, 0.816496580927726, 0.816496580927726],\n  2.581988897471611],\n 'max': [[6, 7, 8], [2, 5, 8], 8],\n 'min': [[0, 1, 2], [0, 3, 6], 0],\n 'sum': [[9, 12, 15], [3, 12, 21], 36]}"
          },
          "metadata": {}
        }
      ],
      "execution_count": 3
    },
    {
      "id": "0603c4fc-abcf-432e-b102-bb8f30724ca1",
      "cell_type": "code",
      "source": "",
      "metadata": {
        "trusted": true
      },
      "outputs": [],
      "execution_count": null
    }
  ]
}